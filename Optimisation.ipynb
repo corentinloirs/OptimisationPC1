{
 "cells": [
  {
   "cell_type": "markdown",
   "metadata": {},
   "source": [
    "# Mini-projet Groupe 1 : Charge d'une flotte de véhicules électriques"
   ]
  },
  {
   "cell_type": "markdown",
   "metadata": {},
   "source": [
    "## 1. Modélisation"
   ]
  },
  {
   "cell_type": "markdown",
   "metadata": {},
   "source": [
    "### Question 1 :"
   ]
  },
  {
   "cell_type": "markdown",
   "metadata": {},
   "source": [
    "Notons $\\tau\\,=\\,\\frac{q}{q_{max}}$ où $q$ est la charge absolue de la batterie, $q_{max}$ la charge absolue maximale et $P$ la puissance fournie à la batterie. \n",
    "\n",
    "On suppose qu'il y a toujours assez de bornes de recharge pour les voitures qui souhaitent être rechargées. On note $n$ le nombre de voitures et pour chaque voiture $j$ le temps $t^0_j$ d'arrivée et $t^f_j$ le temps de départ ainsi que $\\tau^0_j$ et $\\tau^f_j$ les taux de charge relatifs à l'arrivée et au départ.\n",
    "\n",
    "Notons f la fonction objectif du problème qui est le coût de recharge lié à la consommation électrique qui dépend de l'intensité $I_j$ qui parcourt chaque borne de recharge $j$ à tout instant.\n",
    "    \n",
    "$f(I)\\,=\\,\\int^{t_f}_{t_0}\\sum_{j=1}^nI_j(t)\\,Up(t)dt$ où $t_0 = \\displaystyle \\max_{j}(t^0_j)$, $t_f = \\displaystyle \\max_{j}(t^f_j)$, $U$ la tension du réseau (que l'on suppose fixe égale à $230 V$) et $p(t)$ est le prix de l'électricité en euros/$kWh$."
   ]
  },
  {
   "cell_type": "markdown",
   "metadata": {},
   "source": [
    "### Question 2 :"
   ]
  },
  {
   "cell_type": "markdown",
   "metadata": {},
   "source": [
    "On suppose que les batteries des voitures sont identiques. \n",
    "\n",
    "\n",
    "On a : $\\frac{dq}{dt}(t) = \\alpha\\,I(t) = \\alpha\\,\\frac{P(t)}{U}$ d'où : $\\frac{d\\tau}{dt}(t) =\\alpha\\, \\frac{P(t)}{U*q_{max}}$ où $\\alpha$ est un facteur lié aux pertes diverses de charge (effet Joule, cablage...) à déterminer expérimentalement. "
   ]
  },
  {
   "cell_type": "markdown",
   "metadata": {},
   "source": [
    "### Question 3 :"
   ]
  },
  {
   "cell_type": "markdown",
   "metadata": {},
   "source": [
    "On va ici traiter de l'évaluation expérimentale de notre modèle, i.e. le calcul par la régression (linéaire dans notre cas, puisque la relation q(I) est linéaire). On trace d'après les données fournies $\\frac{dq}{dt}(t)$ en fonction de $I(t)$.\n",
    "\n",
    "Etant donné que du bruit a été ajouté aux données et qu'on a accès à $q(t)$ et non $\\frac{dq}{dt}(t)$, on va tenter deux méthodes de régression : \n",
    "* La première consiste à extrapoler $\\frac{dq}{dt}(t)$ d'après les données et tracer cette approximation en fonction de $I(t)$ donné\n",
    "* La seconde consiste à intégrer $I(t)$ par méthode numérique et tracer $\\int I$ en fonction de q.\n",
    "Dans les deux cas, on aura un coefficient de régression qui vaudra (si tant est que le modèle linéaire est juste) $\\frac{\\alpha}{q_{max}}$."
   ]
  },
  {
   "cell_type": "code",
   "execution_count": 2,
   "metadata": {
    "scrolled": true
   },
   "outputs": [
    {
     "data": {
      "text/html": [
       "<div>\n",
       "<style scoped>\n",
       "    .dataframe tbody tr th:only-of-type {\n",
       "        vertical-align: middle;\n",
       "    }\n",
       "\n",
       "    .dataframe tbody tr th {\n",
       "        vertical-align: top;\n",
       "    }\n",
       "\n",
       "    .dataframe thead th {\n",
       "        text-align: right;\n",
       "    }\n",
       "</style>\n",
       "<table border=\"1\" class=\"dataframe\">\n",
       "  <thead>\n",
       "    <tr style=\"text-align: right;\">\n",
       "      <th></th>\n",
       "      <th>temps</th>\n",
       "      <th>intensité</th>\n",
       "      <th>charge_relative</th>\n",
       "    </tr>\n",
       "  </thead>\n",
       "  <tbody>\n",
       "    <tr>\n",
       "      <td>0</td>\n",
       "      <td>0.000000</td>\n",
       "      <td>0.005755</td>\n",
       "      <td>0.626524</td>\n",
       "    </tr>\n",
       "    <tr>\n",
       "      <td>1</td>\n",
       "      <td>1.005016</td>\n",
       "      <td>0.018529</td>\n",
       "      <td>0.631323</td>\n",
       "    </tr>\n",
       "    <tr>\n",
       "      <td>2</td>\n",
       "      <td>2.008215</td>\n",
       "      <td>-0.022398</td>\n",
       "      <td>0.629266</td>\n",
       "    </tr>\n",
       "    <tr>\n",
       "      <td>3</td>\n",
       "      <td>3.018137</td>\n",
       "      <td>0.008812</td>\n",
       "      <td>0.631987</td>\n",
       "    </tr>\n",
       "    <tr>\n",
       "      <td>4</td>\n",
       "      <td>4.023168</td>\n",
       "      <td>0.003566</td>\n",
       "      <td>0.632518</td>\n",
       "    </tr>\n",
       "  </tbody>\n",
       "</table>\n",
       "</div>"
      ],
      "text/plain": [
       "      temps  intensité  charge_relative\n",
       "0  0.000000   0.005755         0.626524\n",
       "1  1.005016   0.018529         0.631323\n",
       "2  2.008215  -0.022398         0.629266\n",
       "3  3.018137   0.008812         0.631987\n",
       "4  4.023168   0.003566         0.632518"
      ]
     },
     "execution_count": 2,
     "metadata": {},
     "output_type": "execute_result"
    }
   ],
   "source": [
    "#traitement des données, mise en forme sous un panda\n",
    "import pandas as pd\n",
    "import numpy as np\n",
    "import matplotlib.pyplot as plt\n",
    "\n",
    "table = pd.read_table('donnees-projet-gr1.txt', names=['temps', 'intensité', 'charge_relative'])\n",
    "table.head()"
   ]
  },
  {
   "cell_type": "markdown",
   "metadata": {},
   "source": [
    "#### Par le calcul de la dérivée"
   ]
  },
  {
   "cell_type": "code",
   "execution_count": 3,
   "metadata": {},
   "outputs": [
    {
     "data": {
      "text/html": [
       "<div>\n",
       "<style scoped>\n",
       "    .dataframe tbody tr th:only-of-type {\n",
       "        vertical-align: middle;\n",
       "    }\n",
       "\n",
       "    .dataframe tbody tr th {\n",
       "        vertical-align: top;\n",
       "    }\n",
       "\n",
       "    .dataframe thead th {\n",
       "        text-align: right;\n",
       "    }\n",
       "</style>\n",
       "<table border=\"1\" class=\"dataframe\">\n",
       "  <thead>\n",
       "    <tr style=\"text-align: right;\">\n",
       "      <th></th>\n",
       "      <th>temps</th>\n",
       "      <th>intensité</th>\n",
       "      <th>charge_relative</th>\n",
       "      <th>derivee_charge</th>\n",
       "    </tr>\n",
       "  </thead>\n",
       "  <tbody>\n",
       "    <tr>\n",
       "      <td>1</td>\n",
       "      <td>1.005016</td>\n",
       "      <td>0.018529</td>\n",
       "      <td>0.631323</td>\n",
       "      <td>0.004775</td>\n",
       "    </tr>\n",
       "    <tr>\n",
       "      <td>2</td>\n",
       "      <td>2.008215</td>\n",
       "      <td>-0.022398</td>\n",
       "      <td>0.629266</td>\n",
       "      <td>-0.002050</td>\n",
       "    </tr>\n",
       "    <tr>\n",
       "      <td>3</td>\n",
       "      <td>3.018137</td>\n",
       "      <td>0.008812</td>\n",
       "      <td>0.631987</td>\n",
       "      <td>0.002694</td>\n",
       "    </tr>\n",
       "    <tr>\n",
       "      <td>4</td>\n",
       "      <td>4.023168</td>\n",
       "      <td>0.003566</td>\n",
       "      <td>0.632518</td>\n",
       "      <td>0.000529</td>\n",
       "    </tr>\n",
       "    <tr>\n",
       "      <td>5</td>\n",
       "      <td>5.027335</td>\n",
       "      <td>-0.012886</td>\n",
       "      <td>0.632880</td>\n",
       "      <td>0.000360</td>\n",
       "    </tr>\n",
       "  </tbody>\n",
       "</table>\n",
       "</div>"
      ],
      "text/plain": [
       "      temps  intensité  charge_relative  derivee_charge\n",
       "1  1.005016   0.018529         0.631323        0.004775\n",
       "2  2.008215  -0.022398         0.629266       -0.002050\n",
       "3  3.018137   0.008812         0.631987        0.002694\n",
       "4  4.023168   0.003566         0.632518        0.000529\n",
       "5  5.027335  -0.012886         0.632880        0.000360"
      ]
     },
     "execution_count": 3,
     "metadata": {},
     "output_type": "execute_result"
    }
   ],
   "source": [
    "### On calcule la dérivée de la charge\n",
    "table_der = table.copy(deep = True)\n",
    "table_der['derivee_charge'] = 0\n",
    "for i in table_der.index :\n",
    "    if i == 0:\n",
    "        table_der.iloc[i, 3] = 0\n",
    "    else :\n",
    "        table_der.iloc[i, 3] = (table_der.iloc[i-1, 2] - table_der.iloc[i, 2])/(table_der.iloc[i-1, 0] - table_der.iloc[i, 0])\n",
    "table_der.drop([0], inplace = True) ### On supprime la première ligne car on a pas la dérivée de la charge pour cette ligne.\n",
    "table_der.head()"
   ]
  },
  {
   "cell_type": "code",
   "execution_count": 4,
   "metadata": {},
   "outputs": [],
   "source": [
    "### On crée notre fonction objectif\n",
    "def f(a):\n",
    "    s = 0\n",
    "    for i in table_der.index :\n",
    "        s += (table_der.loc[i, 'derivee_charge'] - a*table_der.loc[i, 'intensité'])**2\n",
    "    return s"
   ]
  },
  {
   "cell_type": "code",
   "execution_count": 5,
   "metadata": {},
   "outputs": [
    {
     "data": {
      "text/plain": [
       "     fun: 0.002029256395442698\n",
       "    nfev: 27\n",
       "     nit: 23\n",
       " success: True\n",
       "       x: 0.0019426071168044741"
      ]
     },
     "execution_count": 5,
     "metadata": {},
     "output_type": "execute_result"
    }
   ],
   "source": [
    "from scipy.optimize import minimize_scalar\n",
    "res = minimize_scalar(f)\n",
    "res"
   ]
  },
  {
   "cell_type": "markdown",
   "metadata": {},
   "source": [
    "On trouve donc que $\\frac{d\\tau}{dt} = 0.00194 \\times I$ avec une erreur de 0.00203."
   ]
  },
  {
   "cell_type": "code",
   "execution_count": 6,
   "metadata": {},
   "outputs": [
    {
     "data": {
      "text/plain": [
       "[<matplotlib.lines.Line2D at 0x1b322a44688>]"
      ]
     },
     "execution_count": 6,
     "metadata": {},
     "output_type": "execute_result"
    },
    {
     "data": {
      "image/png": "[encoded data removed]",
      "text/plain": [
       "<Figure size 432x288 with 1 Axes>"
      ]
     },
     "metadata": {
      "needs_background": "light"
     },
     "output_type": "display_data"
    }
   ],
   "source": [
    "plt.scatter(table_der['intensité'], table_der['derivee_charge'])\n",
    "x = np.linspace(-4, 1)\n",
    "plt.plot(x, 0.0019426071168044741*x, 'g')"
   ]
  },
  {
   "cell_type": "markdown",
   "metadata": {},
   "source": [
    "##### Par intégration"
   ]
  },
  {
   "cell_type": "code",
   "execution_count": 7,
   "metadata": {},
   "outputs": [
    {
     "data": {
      "text/html": [
       "<div>\n",
       "<style scoped>\n",
       "    .dataframe tbody tr th:only-of-type {\n",
       "        vertical-align: middle;\n",
       "    }\n",
       "\n",
       "    .dataframe tbody tr th {\n",
       "        vertical-align: top;\n",
       "    }\n",
       "\n",
       "    .dataframe thead th {\n",
       "        text-align: right;\n",
       "    }\n",
       "</style>\n",
       "<table border=\"1\" class=\"dataframe\">\n",
       "  <thead>\n",
       "    <tr style=\"text-align: right;\">\n",
       "      <th></th>\n",
       "      <th>temps</th>\n",
       "      <th>intensité</th>\n",
       "      <th>charge_relative</th>\n",
       "      <th>int_I</th>\n",
       "    </tr>\n",
       "  </thead>\n",
       "  <tbody>\n",
       "    <tr>\n",
       "      <td>1</td>\n",
       "      <td>1.005016</td>\n",
       "      <td>0.018529</td>\n",
       "      <td>0.631323</td>\n",
       "      <td>0.012203</td>\n",
       "    </tr>\n",
       "    <tr>\n",
       "      <td>2</td>\n",
       "      <td>2.008215</td>\n",
       "      <td>-0.022398</td>\n",
       "      <td>0.629266</td>\n",
       "      <td>0.010263</td>\n",
       "    </tr>\n",
       "    <tr>\n",
       "      <td>3</td>\n",
       "      <td>3.018137</td>\n",
       "      <td>0.008812</td>\n",
       "      <td>0.631987</td>\n",
       "      <td>0.003403</td>\n",
       "    </tr>\n",
       "    <tr>\n",
       "      <td>4</td>\n",
       "      <td>4.023168</td>\n",
       "      <td>0.003566</td>\n",
       "      <td>0.632518</td>\n",
       "      <td>0.009623</td>\n",
       "    </tr>\n",
       "    <tr>\n",
       "      <td>5</td>\n",
       "      <td>5.027335</td>\n",
       "      <td>-0.012886</td>\n",
       "      <td>0.632880</td>\n",
       "      <td>0.004943</td>\n",
       "    </tr>\n",
       "  </tbody>\n",
       "</table>\n",
       "</div>"
      ],
      "text/plain": [
       "      temps  intensité  charge_relative     int_I\n",
       "1  1.005016   0.018529         0.631323  0.012203\n",
       "2  2.008215  -0.022398         0.629266  0.010263\n",
       "3  3.018137   0.008812         0.631987  0.003403\n",
       "4  4.023168   0.003566         0.632518  0.009623\n",
       "5  5.027335  -0.012886         0.632880  0.004943"
      ]
     },
     "execution_count": 7,
     "metadata": {},
     "output_type": "execute_result"
    }
   ],
   "source": [
    "### On intègre I\n",
    "table_int = table.copy(deep = True)\n",
    "table_int['int_I'] = 0\n",
    "for i in table_int.index :\n",
    "    if i == 0:\n",
    "        table_int.iloc[i, 3] = 0\n",
    "    else :\n",
    "        table_int.iloc[i, 3] = table_int.iloc[i-1,3]+(table_int.iloc[i, 0] - table_int.iloc[i-1, 0])*(table_int.iloc[i-1, 1] + table_int.iloc[i, 1])/2\n",
    "table_int.drop([0], inplace = True) ### On supprime la première ligne car on a pas la dérivée de la charge pour cette ligne.\n",
    "table_int.head()"
   ]
  },
  {
   "cell_type": "code",
   "execution_count": 8,
   "metadata": {},
   "outputs": [],
   "source": [
    "### On crée notre fonction objectif\n",
    "def g(a):\n",
    "    s = 0\n",
    "    for i in table_int.index :\n",
    "        s += (table_int.loc[i, 'int_I'] - a*table_int.loc[i, 'charge_relative'])**2\n",
    "    return s"
   ]
  },
  {
   "cell_type": "code",
   "execution_count": 9,
   "metadata": {},
   "outputs": [
    {
     "data": {
      "text/plain": [
       "     fun: 1255459.359291654\n",
       "    nfev: 28\n",
       "     nit: 22\n",
       " success: True\n",
       "       x: -102.56029972653711"
      ]
     },
     "execution_count": 9,
     "metadata": {},
     "output_type": "execute_result"
    }
   ],
   "source": [
    "from scipy.optimize import minimize_scalar\n",
    "res = minimize_scalar(g)\n",
    "res"
   ]
  },
  {
   "cell_type": "code",
   "execution_count": 12,
   "metadata": {},
   "outputs": [
    {
     "data": {
      "text/plain": [
       "[<matplotlib.lines.Line2D at 0x1b322bd65c8>]"
      ]
     },
     "execution_count": 12,
     "metadata": {},
     "output_type": "execute_result"
    },
    {
     "data": {
      "image/png": "[encoded data removed]",
      "text/plain": [
       "<Figure size 432x288 with 1 Axes>"
      ]
     },
     "metadata": {
      "needs_background": "light"
     },
     "output_type": "display_data"
    }
   ],
   "source": [
    "plt.scatter(table_int['int_I'], table_der['charge_relative'])\n",
    "x = np.linspace(-4, 1)\n",
    "plt.plot(x, 0.0019426071168044741*x, 'g')"
   ]
  },
  {
   "cell_type": "markdown",
   "metadata": {},
   "source": [
    "### Question 4 :"
   ]
  },
  {
   "cell_type": "markdown",
   "metadata": {},
   "source": [
    "Nous avons donc la fonction objectif du problème $f$ qu'il faut minimiser et une relation entre le taux de charge relatif $\\tau_j$ et l'intensité parcourant la batterie $I_j$. Ecrivons à présent les contraintes du porblème. \n",
    "\n",
    "- $I_j(t) = 0$ pour $t \\notin [t_j^0, t_j^f]$ : la voiture ne peut pas charger si elle n'est pas là.\n",
    "- $\\tau_j(t) \\in [0, 1]$ pour tout $t$ et tout $j$ : le taux de charge relatif est compris entre 0 et 1.\n",
    "- $\\tau_j(t_j^f) \\geq \\tau^f_j$ : le taux de charge de la voiture j lorsque la voiture part est supérieur ou égal au taux de charge final voulu.\n",
    "- $I(t) \\geq 0$ pour tout $t$ : l'intensité traversant la batterie est toujours positive de sorte que la batterie se recharge forcèment.\n",
    "- $\\sum_{j=1}^n I_j(t)U \\leq P_{max}$ pout tout $t$ : la puissance fournie à tout instant t aux voitures ne dépasse pas la puissance maximale $P_max$ du réseau. "
   ]
  },
  {
   "cell_type": "markdown",
   "metadata": {},
   "source": [
    "On peut ensuite passer à une version discrétisée du problème pour avoir un problème d'optimisation sous contraintes en dimension finie : ..."
   ]
  },
  {
   "cell_type": "code",
   "execution_count": null,
   "metadata": {},
   "outputs": [],
   "source": []
  }
 ],
 "metadata": {
  "kernelspec": {
   "display_name": "Python 3",
   "language": "python",
   "name": "python3"
  },
  "language_info": {
   "codemirror_mode": {
    "name": "ipython",
    "version": 3
   },
   "file_extension": ".py",
   "mimetype": "text/x-python",
   "name": "python",
   "nbconvert_exporter": "python",
   "pygments_lexer": "ipython3",
   "version": "3.7.4"
  }
 },
 "nbformat": 4,
 "nbformat_minor": 2
}
