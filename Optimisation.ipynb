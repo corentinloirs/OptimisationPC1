{
 "cells": [
  {
   "cell_type": "markdown",
   "metadata": {},
   "source": [
    "# Mini-projet Groupe 1 : Charge d'une flotte de véhicules électriques"
   ],
   "execution_count": null,
   "outputs": []
  },
  {
   "cell_type": "markdown",
   "metadata": {},
   "source": [
    "## 1. Modélisation"
   ],
   "execution_count": null,
   "outputs": []
  },
  {
   "cell_type": "markdown",
   "metadata": {},
   "source": [
    "### Question 1 :"
   ],
   "execution_count": null,
   "outputs": []
  },
  {
   "cell_type": "markdown",
   "metadata": {},
   "source": [
    "On suppose qu'il y a toujours assez de bornes de recharge pour les voitures qui souhaitent être rechargées. On note $n$ le nombre de voitures et pour chaque voiture $j$ le temps $t^0_j$ d'arrivée et $t^f_j$ le temps de départ ainsi que $\\tau^0_j$ et $\\tau^f_j$ les taux de charge relatifs à l'arrivée et au départ.\n",
    "\n",
    "Notons f la fonction objectif du problème qui est le prix électrique de recharge qui dépend de l'intensité $I_j$ qui parcourt chaque borne de recharge $j$ à tout instant.\n",
    "    \n",
    "$f(I)\\,=\\,\\int^{t_f}_{t_0}\\sum_{j=1}^nI_j(t)Up(t)dt$ où $t_0 = \\displaystyle \\max_{j}(t^0_j)$, $t_f = \\displaystyle \\max_{j}(t^f_j)$, $U$ la tension du réseau (que l'on suppose fixe égale à $230 V$) et $p(t)$ est le prix de l'électricité en euros/$kWh$."
   ],
   "execution_count": null,
   "outputs": []
  },
  {
   "cell_type": "markdown",
   "metadata": {},
   "source": [
    "### Question 2 :"
   ],
   "execution_count": null,
   "outputs": []
  },
  {
   "cell_type": "markdown",
   "metadata": {},
   "source": [
    "On suppose que les batteries des voitures sont identiques. \n",
    "\n",
    "Notons $\\tau\\,=\\,\\frac{q}{q_{max}}$ où $q$ est la charge absolue de la batterie, $q_{max}$ la charge maximale et $P$ la puissance fournie à la batterie. \n",
    "\n",
    "On a : $\\frac{dq}{dt}(t) = I(t) = \\frac{P(t)}{U}$ d'où : $\\frac{d\\tau}{dt}(t) = \\frac{P(t)}{U*q_{max}}$. \n"
   ],
   "execution_count": null,
   "outputs": []
  },
  {
   "cell_type": "markdown",
   "metadata": {},
   "source": [
    "### Question 3 :"
   ],
   "execution_count": null,
   "outputs": []
  },
  {
   "cell_type": "code",
   "execution_count": null,
   "metadata": {},
   "outputs": [],
   "source": []
  },
  {
   "cell_type": "markdown",
   "metadata": {},
   "source": [
    "### Question 4 :"
   ],
   "execution_count": null,
   "outputs": []
  },
  {
   "cell_type": "markdown",
   "metadata": {},
   "source": [
    "Nous avons donc la fonction objectif du problème $f$ qu'il faut minimiser et une relation entre le taux de charge relatif $\\tau_j$ et l'intensité parcourant la batterie $I_j$. Ecrivons à présent les contraintes du porblème. \n",
    "\n",
    "- $I_j(t) = 0$ pour $t \\notin [t_j^0, t_j^f]$ : la voiture ne peut pas charger si elle n'est pas là.\n",
    "- $\\tau_j(t) \\in [0, 1]$ pour tout $t$ et tout $j$ : le taux de charge relatif est compris entre 0 et 1.\n",
    "- $\\tau_j(t_j^f) \\geq \\tau^f_j$ : le taux de charge de la voiture j lorsque la voiture part est supérieur ou égal au taux de charge final voulu.\n",
    "- $I(t) \\geq 0$ pour tout $t$ : l'intensité traversant la batterie est toujours positive de sorte que la batterie se recharge forcèment.\n",
    "- $\\sum_{j=1}^n I_j(t)U \\leq P_{max}$ pout tout $t$ : la puissance fournie à tout instant t aux voitures ne dépasse pas la puissance maximale $P_max$ du réseau. "
   ],
   "execution_count": null,
   "outputs": []
  },
  {
   "cell_type": "markdown",
   "metadata": {},
   "source": [
    "On peut ensuite passer à une version discrétisée du problème pour avoir un problème d'optimisation sous contraintes en dimension finie : ..."
   ],
   "execution_count": null,
   "outputs": []
  },
  {
   "cell_type": "code",
   "execution_count": null,
   "metadata": {},
   "outputs": [],
   "source": []
  }
 ],
 "metadata": {
  "kernelspec": {
   "display_name": "Python 3",
   "language": "python",
   "name": "python3"
  },
  "language_info": {
   "codemirror_mode": {
    "name": "ipython",
    "version": 3
   },
   "file_extension": ".py",
   "mimetype": "text/x-python",
   "name": "python",
   "nbconvert_exporter": "python",
   "pygments_lexer": "ipython3",
   "version": "3.7.4"
  }
 },
 "nbformat": 4,
 "nbformat_minor": 2
}