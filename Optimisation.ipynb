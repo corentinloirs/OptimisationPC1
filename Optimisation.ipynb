{
 "cells": [
  {
   "cell_type": "markdown",
   "metadata": {},
   "source": [
    "# Mini-projet Groupe 1 : Charge d'une flotte de véhicules électriques"
   ]
  },
  {
   "cell_type": "markdown",
   "metadata": {},
   "source": [
    "## 1. Modélisation"
   ]
  },
  {
   "cell_type": "markdown",
   "metadata": {},
   "source": [
    "### Question 1 :"
   ]
  },
  {
   "cell_type": "markdown",
   "metadata": {},
   "source": [
    "On suppose que les batteries des voitures sont identiques. Notons le taux de charge relative $\\tau\\,=\\,\\frac{q}{q_{max}}$ où $q$ est la charge absolue de la batterie, $q_{max}$ la charge absolue maximale et $P$ la puissance fournie à la batterie. \n",
    "\n",
    "On suppose qu'il y a toujours assez de bornes de recharge pour les voitures qui souhaitent être rechargées. On note $n$ le nombre de voitures et pour chaque voiture $j$ le temps $t^0_j$ d'arrivée et $t^f_j$ le temps de départ ainsi que $\\tau^0_j$ et $\\tau^f_j$ les taux de charge relatifs à l'arrivée et au départ.\n",
    "\n",
    "Notons $f$ la fonction objectif du problème qui est le coût de recharge lié à la consommation électrique qui dépend de l'intensité $I_j$ qui parcourt chaque borne de recharge $j$ à tout instant.\n",
    "    \n",
    "$f(I)\\,=\\,\\int^{t_f}_{t_0}\\sum_{j=1}^nI_j(t)\\,Up(t)dt$ où $t_0 = \\displaystyle \\max_{j}(t^0_j)$, $t_f = \\displaystyle \\max_{j}(t^f_j)$, $U$ la tension du réseau (que l'on suppose fixe égale à $230 V$) et $p(t)$ est le prix de l'électricité en euros/$kWh$."
   ]
  },
  {
   "cell_type": "markdown",
   "metadata": {},
   "source": [
    "### Question 2 :"
   ]
  },
  {
   "cell_type": "markdown",
   "metadata": {},
   "source": [
    "On a : $\\frac{dq}{dt}(t) = \\alpha\\,I(t) = \\alpha\\,\\frac{P(t)}{U}$ d'où : $\\frac{d\\tau}{dt}(t) =\\alpha\\, \\frac{P(t)}{U*q_{max}} = \\alpha\\, \\frac{I(t)}{q_{max}}$ où $\\alpha$ est un facteur lié aux pertes diverses de charge (effet Joule, cablage...) à déterminer expérimentalement. "
   ]
  },
  {
   "cell_type": "markdown",
   "metadata": {},
   "source": [
    "### Question 3 :"
   ]
  },
  {
   "cell_type": "markdown",
   "metadata": {},
   "source": [
    "On va ici traiter de l'évaluation expérimentale de notre modèle, i.e. le calcul par la régression (linéaire dans notre cas, puisque la relation $\\frac{dq}{dt}(I)$ est linéaire). On trace d'après les données fournies $\\frac{dq}{dt}(t)$ en fonction de $I(t)$.\n",
    "\n",
    "Etant donné que du bruit a été ajouté aux données et qu'on a accès à $q(t)$ et non $\\frac{dq}{dt}(t)$, on va tenter deux méthodes de régression : \n",
    "* La première consiste à extrapoler $\\frac{dq}{dt}(t)$ d'après les données et tracer cette approximation en fonction de $I(t)$ donné\n",
    "* La seconde consiste à intégrer $I(t)$ par méthode numérique et tracer $q$ en fonction de  $\\int I$.\n",
    "\n",
    "Dans les deux cas, on aura un coefficient de régression qui vaudra (si tant est que le modèle linéaire est juste) $\\frac{\\alpha}{q_{max}}$."
   ]
  },
  {
   "cell_type": "code",
   "execution_count": 1,
   "metadata": {
    "scrolled": true
   },
   "outputs": [
    {
     "data": {
      "text/html": [
       "<div>\n",
       "<style scoped>\n",
       "    .dataframe tbody tr th:only-of-type {\n",
       "        vertical-align: middle;\n",
       "    }\n",
       "\n",
       "    .dataframe tbody tr th {\n",
       "        vertical-align: top;\n",
       "    }\n",
       "\n",
       "    .dataframe thead th {\n",
       "        text-align: right;\n",
       "    }\n",
       "</style>\n",
       "<table border=\"1\" class=\"dataframe\">\n",
       "  <thead>\n",
       "    <tr style=\"text-align: right;\">\n",
       "      <th></th>\n",
       "      <th>temps</th>\n",
       "      <th>intensité</th>\n",
       "      <th>charge_relative</th>\n",
       "    </tr>\n",
       "  </thead>\n",
       "  <tbody>\n",
       "    <tr>\n",
       "      <td>0</td>\n",
       "      <td>0.000000</td>\n",
       "      <td>0.005755</td>\n",
       "      <td>0.626524</td>\n",
       "    </tr>\n",
       "    <tr>\n",
       "      <td>1</td>\n",
       "      <td>1.005016</td>\n",
       "      <td>0.018529</td>\n",
       "      <td>0.631323</td>\n",
       "    </tr>\n",
       "    <tr>\n",
       "      <td>2</td>\n",
       "      <td>2.008215</td>\n",
       "      <td>-0.022398</td>\n",
       "      <td>0.629266</td>\n",
       "    </tr>\n",
       "    <tr>\n",
       "      <td>3</td>\n",
       "      <td>3.018137</td>\n",
       "      <td>0.008812</td>\n",
       "      <td>0.631987</td>\n",
       "    </tr>\n",
       "    <tr>\n",
       "      <td>4</td>\n",
       "      <td>4.023168</td>\n",
       "      <td>0.003566</td>\n",
       "      <td>0.632518</td>\n",
       "    </tr>\n",
       "  </tbody>\n",
       "</table>\n",
       "</div>"
      ],
      "text/plain": [
       "      temps  intensité  charge_relative\n",
       "0  0.000000   0.005755         0.626524\n",
       "1  1.005016   0.018529         0.631323\n",
       "2  2.008215  -0.022398         0.629266\n",
       "3  3.018137   0.008812         0.631987\n",
       "4  4.023168   0.003566         0.632518"
      ]
     },
     "execution_count": 1,
     "metadata": {},
     "output_type": "execute_result"
    }
   ],
   "source": [
    "#traitement des données, mise en forme sous un panda\n",
    "import pandas as pd\n",
    "import numpy as np\n",
    "import matplotlib.pyplot as plt\n",
    "\n",
    "table = pd.read_table('donnees-projet-gr1.txt', names=['temps', 'intensité', 'charge_relative'])\n",
    "table.head()"
   ]
  },
  {
   "cell_type": "markdown",
   "metadata": {},
   "source": [
    "##### Par le calcul de la dérivée"
   ]
  },
  {
   "cell_type": "code",
   "execution_count": 2,
   "metadata": {},
   "outputs": [
    {
     "data": {
      "text/html": [
       "<div>\n",
       "<style scoped>\n",
       "    .dataframe tbody tr th:only-of-type {\n",
       "        vertical-align: middle;\n",
       "    }\n",
       "\n",
       "    .dataframe tbody tr th {\n",
       "        vertical-align: top;\n",
       "    }\n",
       "\n",
       "    .dataframe thead th {\n",
       "        text-align: right;\n",
       "    }\n",
       "</style>\n",
       "<table border=\"1\" class=\"dataframe\">\n",
       "  <thead>\n",
       "    <tr style=\"text-align: right;\">\n",
       "      <th></th>\n",
       "      <th>temps</th>\n",
       "      <th>intensité</th>\n",
       "      <th>charge_relative</th>\n",
       "      <th>derivee_charge</th>\n",
       "    </tr>\n",
       "  </thead>\n",
       "  <tbody>\n",
       "    <tr>\n",
       "      <td>1</td>\n",
       "      <td>1.005016</td>\n",
       "      <td>0.018529</td>\n",
       "      <td>0.631323</td>\n",
       "      <td>0.004775</td>\n",
       "    </tr>\n",
       "    <tr>\n",
       "      <td>2</td>\n",
       "      <td>2.008215</td>\n",
       "      <td>-0.022398</td>\n",
       "      <td>0.629266</td>\n",
       "      <td>-0.002050</td>\n",
       "    </tr>\n",
       "    <tr>\n",
       "      <td>3</td>\n",
       "      <td>3.018137</td>\n",
       "      <td>0.008812</td>\n",
       "      <td>0.631987</td>\n",
       "      <td>0.002694</td>\n",
       "    </tr>\n",
       "    <tr>\n",
       "      <td>4</td>\n",
       "      <td>4.023168</td>\n",
       "      <td>0.003566</td>\n",
       "      <td>0.632518</td>\n",
       "      <td>0.000529</td>\n",
       "    </tr>\n",
       "    <tr>\n",
       "      <td>5</td>\n",
       "      <td>5.027335</td>\n",
       "      <td>-0.012886</td>\n",
       "      <td>0.632880</td>\n",
       "      <td>0.000360</td>\n",
       "    </tr>\n",
       "  </tbody>\n",
       "</table>\n",
       "</div>"
      ],
      "text/plain": [
       "      temps  intensité  charge_relative  derivee_charge\n",
       "1  1.005016   0.018529         0.631323        0.004775\n",
       "2  2.008215  -0.022398         0.629266       -0.002050\n",
       "3  3.018137   0.008812         0.631987        0.002694\n",
       "4  4.023168   0.003566         0.632518        0.000529\n",
       "5  5.027335  -0.012886         0.632880        0.000360"
      ]
     },
     "execution_count": 2,
     "metadata": {},
     "output_type": "execute_result"
    }
   ],
   "source": [
    "### On calcule la dérivée de la charge\n",
    "table_der = table.copy(deep = True)\n",
    "table_der['derivee_charge'] = 0\n",
    "for i in table_der.index :\n",
    "    if i == 0:\n",
    "        table_der.iloc[i, 3] = 0\n",
    "    else :\n",
    "        table_der.iloc[i, 3] = (table_der.iloc[i-1, 2] - table_der.iloc[i, 2])/(table_der.iloc[i-1, 0] - table_der.iloc[i, 0])\n",
    "table_der.drop([0], inplace = True) ### On supprime la première ligne car on a pas la dérivée de la charge pour cette ligne.\n",
    "table_der.head()"
   ]
  },
  {
   "cell_type": "code",
   "execution_count": 3,
   "metadata": {},
   "outputs": [],
   "source": [
    "### On crée notre fonction objectif\n",
    "def f(a):\n",
    "    s = 0\n",
    "    for i in table_der.index :\n",
    "        s += (table_der.loc[i, 'derivee_charge'] - a*table_der.loc[i, 'intensité'] )**2\n",
    "    return s"
   ]
  },
  {
   "cell_type": "code",
   "execution_count": 4,
   "metadata": {},
   "outputs": [
    {
     "data": {
      "text/plain": [
       "     fun: 0.002029256395442698\n",
       "    nfev: 27\n",
       "     nit: 23\n",
       " success: True\n",
       "       x: 0.0019426071168044741"
      ]
     },
     "execution_count": 4,
     "metadata": {},
     "output_type": "execute_result"
    }
   ],
   "source": [
    "from scipy.optimize import minimize_scalar\n",
    "res = minimize_scalar(f)\n",
    "res"
   ]
  },
  {
   "cell_type": "markdown",
   "metadata": {},
   "source": [
    "On trouve donc que $\\frac{d\\tau}{dt} = 0.00194 \\times I$ avec une erreur de 0.00203."
   ]
  },
  {
   "cell_type": "code",
   "execution_count": 5,
   "metadata": {},
   "outputs": [
    {
     "data": {
      "text/plain": [
       "[<matplotlib.lines.Line2D at 0x1cb2d730d48>]"
      ]
     },
     "execution_count": 5,
     "metadata": {},
     "output_type": "execute_result"
    },
    {
     "data": {
      "image/png": "[encoded data removed]",
      "text/plain": [
       "<Figure size 432x288 with 1 Axes>"
      ]
     },
     "metadata": {
      "needs_background": "light"
     },
     "output_type": "display_data"
    }
   ],
   "source": [
    "plt.scatter(table_der['intensité'], table_der['derivee_charge'])\n",
    "x = np.linspace(-4, 1)\n",
    "plt.plot(x, 0.0019426071168044741*x, 'g')"
   ]
  },
  {
   "cell_type": "markdown",
   "metadata": {},
   "source": [
    "Remarquons d'abord que cette régression ne semble pas très précise: la méthode des moindres carrés fait passer la droite par la moyenne quadratique des bruits. Etant donné que le bruit a été rajouté artificiellement, on peut se douter que la moyenne quadratique donne une bonne indication de la valeur réelle. Cependant, si l'on avait un bruit pondéré (par exemple avec beaucoup de marge vers le bas) ou borné, la valeur du coefficient de régression inspirerait peut de confiance.\n",
    "\n",
    "Pour valider ce résultat (ou l'infirmer), on va passer par une méthode d'intrégration."
   ]
  },
  {
   "cell_type": "markdown",
   "metadata": {},
   "source": [
    "##### Par intégration"
   ]
  },
  {
   "cell_type": "code",
   "execution_count": 6,
   "metadata": {},
   "outputs": [
    {
     "data": {
      "text/html": [
       "<div>\n",
       "<style scoped>\n",
       "    .dataframe tbody tr th:only-of-type {\n",
       "        vertical-align: middle;\n",
       "    }\n",
       "\n",
       "    .dataframe tbody tr th {\n",
       "        vertical-align: top;\n",
       "    }\n",
       "\n",
       "    .dataframe thead th {\n",
       "        text-align: right;\n",
       "    }\n",
       "</style>\n",
       "<table border=\"1\" class=\"dataframe\">\n",
       "  <thead>\n",
       "    <tr style=\"text-align: right;\">\n",
       "      <th></th>\n",
       "      <th>temps</th>\n",
       "      <th>intensité</th>\n",
       "      <th>charge_relative</th>\n",
       "      <th>int_I</th>\n",
       "    </tr>\n",
       "  </thead>\n",
       "  <tbody>\n",
       "    <tr>\n",
       "      <td>0</td>\n",
       "      <td>0.000000</td>\n",
       "      <td>0.005755</td>\n",
       "      <td>0.626524</td>\n",
       "      <td>0.005784</td>\n",
       "    </tr>\n",
       "    <tr>\n",
       "      <td>1</td>\n",
       "      <td>1.005016</td>\n",
       "      <td>0.018529</td>\n",
       "      <td>0.631323</td>\n",
       "      <td>0.024373</td>\n",
       "    </tr>\n",
       "    <tr>\n",
       "      <td>2</td>\n",
       "      <td>2.008215</td>\n",
       "      <td>-0.022398</td>\n",
       "      <td>0.629266</td>\n",
       "      <td>0.001753</td>\n",
       "    </tr>\n",
       "    <tr>\n",
       "      <td>3</td>\n",
       "      <td>3.018137</td>\n",
       "      <td>0.008812</td>\n",
       "      <td>0.631987</td>\n",
       "      <td>0.010609</td>\n",
       "    </tr>\n",
       "    <tr>\n",
       "      <td>4</td>\n",
       "      <td>4.023168</td>\n",
       "      <td>0.003566</td>\n",
       "      <td>0.632518</td>\n",
       "      <td>0.014190</td>\n",
       "    </tr>\n",
       "  </tbody>\n",
       "</table>\n",
       "</div>"
      ],
      "text/plain": [
       "      temps  intensité  charge_relative     int_I\n",
       "0  0.000000   0.005755         0.626524  0.005784\n",
       "1  1.005016   0.018529         0.631323  0.024373\n",
       "2  2.008215  -0.022398         0.629266  0.001753\n",
       "3  3.018137   0.008812         0.631987  0.010609\n",
       "4  4.023168   0.003566         0.632518  0.014190"
      ]
     },
     "execution_count": 6,
     "metadata": {},
     "output_type": "execute_result"
    }
   ],
   "source": [
    "### On intègre I par la méthode des trapèzes\n",
    "table_int = table.copy(deep = True)\n",
    "table_int['int_I'] = 0\n",
    "for i in table_int.index :\n",
    "    if i == 0 : ### Calcul de l'intégrale entre t0 et t1\n",
    "        table_int.iloc[i, 3] = (table_int.iloc[i+1, 0] - table_int.iloc[i, 0])*(table_int.iloc[i, 1] + table_int.iloc[i, 1])/2\n",
    "    elif i!=298 : ### On calcule l'intégrale de I entre ti et t(i+1) et on ajoute la valeur de l'intégrale entre t0 et ti\n",
    "        table_int.iloc[i, 3] = table_int.iloc[i-1,3]+(table_int.iloc[i+1, 0] - table_int.iloc[i, 0])*(table_int.iloc[i, 1] + table_int.iloc[i, 1])/2\n",
    "    else : ### On ne peut pas caluler la dernière intégrale\n",
    "        table_int.iloc[i, 3] = 0\n",
    "table_int.drop([298], inplace = True) ###La dernière valeur n'a pas de sens.\n",
    "table_int.head()"
   ]
  },
  {
   "cell_type": "code",
   "execution_count": 7,
   "metadata": {
    "scrolled": true
   },
   "outputs": [
    {
     "data": {
      "text/plain": [
       "<matplotlib.collections.PathCollection at 0x1cb2dc220c8>"
      ]
     },
     "execution_count": 7,
     "metadata": {},
     "output_type": "execute_result"
    },
    {
     "data": {
      "image/png": "[encoded data removed]",
      "text/plain": [
       "<Figure size 432x288 with 1 Axes>"
      ]
     },
     "metadata": {
      "needs_background": "light"
     },
     "output_type": "display_data"
    }
   ],
   "source": [
    "plt.scatter(table_int['int_I'], table_int['charge_relative'])"
   ]
  },
  {
   "cell_type": "code",
   "execution_count": 8,
   "metadata": {},
   "outputs": [],
   "source": [
    "### On crée notre nouvelle fonction objectif\n",
    "def g(a):\n",
    "    s = 0\n",
    "    for i in  table_int.index :\n",
    "        s += (table_int.loc[i, 'charge_relative'] - a*table_int.loc[i, 'int_I'] - table_int.loc[0, 'charge_relative'])**2\n",
    "    return s"
   ]
  },
  {
   "cell_type": "code",
   "execution_count": 9,
   "metadata": {},
   "outputs": [
    {
     "data": {
      "text/plain": [
       "     fun: 0.00315681526792678\n",
       "    nfev: 9\n",
       "     nit: 5\n",
       " success: True\n",
       "       x: 0.0019568267225706162"
      ]
     },
     "execution_count": 9,
     "metadata": {},
     "output_type": "execute_result"
    }
   ],
   "source": [
    "from scipy.optimize import minimize_scalar\n",
    "res = minimize_scalar(g)\n",
    "res"
   ]
  },
  {
   "cell_type": "code",
   "execution_count": 10,
   "metadata": {},
   "outputs": [
    {
     "data": {
      "text/plain": [
       "[<matplotlib.lines.Line2D at 0x1cb2dca67c8>]"
      ]
     },
     "execution_count": 10,
     "metadata": {},
     "output_type": "execute_result"
    },
    {
     "data": {
      "image/png": "[encoded data removed]",
      "text/plain": [
       "<Figure size 432x288 with 1 Axes>"
      ]
     },
     "metadata": {
      "needs_background": "light"
     },
     "output_type": "display_data"
    }
   ],
   "source": [
    "plt.scatter(table_int['int_I'], table_int['charge_relative'])\n",
    "x = np.linspace(-190, 0)\n",
    "plt.plot(x, 0.0019426071168044741*x + table_int.loc[0, 'charge_relative'], 'g')"
   ]
  },
  {
   "cell_type": "markdown",
   "metadata": {},
   "source": [
    "Ce graphe est nettement plus satisfaisant: on retrouve bien une relation affine de la forme $ q = a \\int I+q_0$.\n",
    "On retrouve le même coefficient directeur, qui vaut environ 0.0020. \n",
    "\n",
    "On valide donc le modèle proposé, soit $\\frac{d\\tau}{dt}\\,=\\,\\frac{\\alpha}{q_{max}}\\times I$ avec $\\frac{\\alpha}{q_{max}}=0,002$"
   ]
  },
  {
   "cell_type": "markdown",
   "metadata": {},
   "source": [
    "### Question 4 :"
   ]
  },
  {
   "cell_type": "markdown",
   "metadata": {},
   "source": [
    "#### Contraintes du problème"
   ]
  },
  {
   "cell_type": "markdown",
   "metadata": {},
   "source": [
    "Nous avons donc la fonction objectif du problème $f$ qu'il faut minimiser en fonction du vecteur $I$ des instensités. Ecrivons à présent les contraintes du porblème. \n",
    "\n",
    "- $I_j(t) = 0$ pour $t \\notin [t_j^0, t_j^f]$ pour tout $j$ : la voiture ne peut pas charger si elle n'est pas là.\n",
    "- $\\tau_j(t) \\in [0, 1]$ pour tout $t$ et tout $j$ : le taux de charge relatif est compris entre 0 et 1. (deux conditions en une)\n",
    "- $\\tau_j(t_j^0) = \\tau^0_j$ pour tout $j$ : le taux de charge de la voiture $j$ lorsque la voiture arrive est égal à la charge initial.\n",
    "- $\\tau_j(t_j^f) \\geq \\tau^f_j$ pour tout $j$ : le taux de charge de la voiture $j$ lorsque la voiture part est supérieur ou égal au taux de charge final voulu.\n",
    "- $\\sum_{j=1}^n I_j(t)U \\leq P_{max}$ pout tout $t$ : la puissance fournie à tout instant $t$ aux voitures ne dépasse pas la puissance maximale $P_{max}$ du réseau. \n",
    "- $\\frac{d\\tau_j(t)}{dt}\\,=\\,\\frac{\\alpha}{q_{max}}\\times I_j(t)$ avec $\\frac{\\alpha}{q_{max}}=0,002$ pour tout $t$ et tout $j$."
   ]
  },
  {
   "cell_type": "markdown",
   "metadata": {},
   "source": [
    "#### Version discrète du problème"
   ]
  },
  {
   "cell_type": "markdown",
   "metadata": {},
   "source": [
    "On peut ensuite passer à une version discrétisée du problème pour avoir un problème d'optimisation sous contraintes en dimension finie : "
   ]
  },
  {
   "cell_type": "markdown",
   "metadata": {},
   "source": [
    "On commence par discrétiser le temps en $N$ pas. On pose $T_0 = t_0$ et $T_k = T_0 + k\\times \\Delta T$ où $\\Delta T = \\frac{t_f - t_0}{N}$ de sorte que $T_N = t_f$. On choisit de réécrire les temps d'arrivée et de départ d'une voiture $j$, $t_j^0 = T_{k_j^0}$ et $t_j^f = T_{k_j^f}$.\n",
    "\n",
    "Ensuite, on reécrit notre fonction objectif : $f(I) = \\sum_{k=0}^{N-1} \\sum_{j=1}^n I_j(T_k)\\times U \\times p(T_k)\\Delta T$ (on a intégré selon la méthodes des rectangles à gauche).\n",
    "\n",
    "Et enfin, nos contraintes :\n",
    "- $I_j(T_k) = 0$ pour $T_k \\notin [T_{k_j^0},T_{k_j^f}]$ ou encore pour tout $k \\notin [\\![k_j^0, k_j^f ]\\!]$ et pour tout $j$: la voiture ne peut pas charger si elle n'est pas là.\n",
    "- $\\tau_j(T_k) \\in [0, 1]$ pour tout $k$ et tout $j$ : le taux de charge relatif est compris entre 0 et 1. (deux conditions en une)\n",
    "- $\\tau_j(T_{k_j^0}) = \\tau^0_j$ pour tout $j$ : le taux de charge de la voiture $j$ lorsque la voiture arrive est égal à la charge initial.\n",
    "- $\\tau_j(T_{k_j^f}) \\geq \\tau^f_j$ pour tout $j$: le taux de charge de la voiture $j$ lorsque la voiture part est supérieur ou égal au taux de charge final voulu.\n",
    "- $\\sum_{j=1}^n I_j(T_k)U \\leq P_{max}$ pout tout $k$ : la puissance fournie à tout instant aux voitures ne dépasse pas la puissance maximale $P_{max}$ du réseau. \n",
    "- $\\tau_j(T_{k+1})\\,=\\,\\tau_j(T_{k}) + \\frac{\\alpha}{q_{max}}\\times I_j(T_k)$ avec $\\frac{\\alpha}{q_{max}}=0,002$ pour tout $k$ et tout $j$."
   ]
  },
  {
   "cell_type": "markdown",
   "metadata": {},
   "source": [
    "##### Version avec des matrices"
   ]
  },
  {
   "cell_type": "markdown",
   "metadata": {},
   "source": [
    "On peut aussi réécrire ce problème en utilisant trois matrices et la norme 1 sur $R^n$. \n",
    "\n",
    "On utilise la matrice I des intensités telle que $I_{j,k} = I_j(T_k)$, la matrice colonne P des prix telle $P_k = p(T_k)$ et la matrice $\\tau$ des charges relatives telle que $\\tau_{j,k} = \\tau_j(T_k)$.\n",
    "\n",
    "La fonction objectif est alors : $f(I) = U\\times \\Delta T \\times||I\\times P||_1$ (cette relation n'est valable que lorsque tous les coefficients de $I$ sont positifs).\n",
    "\n",
    "Et les contraintes s'écrivent :\n",
    "- $I_{j,k} = 0$ pour tout $j$ et pour tout $k \\notin [\\![k_j^0, k_j^f ]\\!]$ \n",
    "- $\\tau_{j,k} \\in [0, 1]$ pour tout $k$ et tout $j$ \n",
    "- $\\tau_{j,k_j^0} = \\tau^0_j$ pour tout $j$ \n",
    "- $\\tau_{j,k_j^f} \\geq \\tau^f_j$ pout tout $j$\n",
    "- $||U\\times I_k||_1\\leq P_{max}$ pout tout $k$ où $I_k$ est la $k^{ème}$ colonne de $I$.\n",
    "- $\\tau_{j,k+1}\\,=\\,\\tau_{j,k} + \\frac{\\alpha}{q_{max}}\\times I_{j,k}$ avec $\\frac{\\alpha}{q_{max}}=0,002$ pour tout $k$ et tout $j$."
   ]
  }
 ],
 "metadata": {
  "kernelspec": {
   "display_name": "Python 3",
   "language": "python",
   "name": "python3"
  },
  "language_info": {
   "codemirror_mode": {
    "name": "ipython",
    "version": 3
   },
   "file_extension": ".py",
   "mimetype": "text/x-python",
   "name": "python",
   "nbconvert_exporter": "python",
   "pygments_lexer": "ipython3",
   "version": "3.7.4"
  }
 },
 "nbformat": 4,
 "nbformat_minor": 2
}
